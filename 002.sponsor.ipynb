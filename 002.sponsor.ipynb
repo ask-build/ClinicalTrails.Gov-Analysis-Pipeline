{
 "cells": [
  {
   "cell_type": "code",
   "execution_count": 1,
   "metadata": {
    "collapsed": true
   },
   "outputs": [],
   "source": [
    "import pandas as pd\n",
    "from pandas import Series, DataFrame"
   ]
  },
  {
   "cell_type": "code",
   "execution_count": 2,
   "metadata": {
    "collapsed": true
   },
   "outputs": [],
   "source": [
    "#------------------------Import Sponsors - Main Dataset from ClinicalTrials.Gov (11-2-2017 snapshot)--------------------"
   ]
  },
  {
   "cell_type": "code",
   "execution_count": 3,
   "metadata": {},
   "outputs": [
    {
     "data": {
      "text/html": [
       "<div>\n",
       "<style>\n",
       "    .dataframe thead tr:only-child th {\n",
       "        text-align: right;\n",
       "    }\n",
       "\n",
       "    .dataframe thead th {\n",
       "        text-align: left;\n",
       "    }\n",
       "\n",
       "    .dataframe tbody tr th {\n",
       "        vertical-align: top;\n",
       "    }\n",
       "</style>\n",
       "<table border=\"1\" class=\"dataframe\">\n",
       "  <thead>\n",
       "    <tr style=\"text-align: right;\">\n",
       "      <th></th>\n",
       "      <th>id</th>\n",
       "      <th>nct_id</th>\n",
       "      <th>agency_class</th>\n",
       "      <th>lead_or_collaborator</th>\n",
       "      <th>name</th>\n",
       "    </tr>\n",
       "  </thead>\n",
       "  <tbody>\n",
       "    <tr>\n",
       "      <th>0</th>\n",
       "      <td>1785414</td>\n",
       "      <td>NCT03328455</td>\n",
       "      <td>Other</td>\n",
       "      <td>lead</td>\n",
       "      <td>University of Nevada, Reno</td>\n",
       "    </tr>\n",
       "    <tr>\n",
       "      <th>1</th>\n",
       "      <td>1785415</td>\n",
       "      <td>NCT03329326</td>\n",
       "      <td>Other</td>\n",
       "      <td>lead</td>\n",
       "      <td>Medical University of Vienna</td>\n",
       "    </tr>\n",
       "    <tr>\n",
       "      <th>2</th>\n",
       "      <td>1785416</td>\n",
       "      <td>NCT03329326</td>\n",
       "      <td>Other</td>\n",
       "      <td>collaborator</td>\n",
       "      <td>University Medical Center Goettingen</td>\n",
       "    </tr>\n",
       "    <tr>\n",
       "      <th>3</th>\n",
       "      <td>1785417</td>\n",
       "      <td>NCT03329326</td>\n",
       "      <td>Other</td>\n",
       "      <td>collaborator</td>\n",
       "      <td>Lund University</td>\n",
       "    </tr>\n",
       "    <tr>\n",
       "      <th>4</th>\n",
       "      <td>1785418</td>\n",
       "      <td>NCT03329326</td>\n",
       "      <td>Other</td>\n",
       "      <td>collaborator</td>\n",
       "      <td>Örebro University, Sweden</td>\n",
       "    </tr>\n",
       "  </tbody>\n",
       "</table>\n",
       "</div>"
      ],
      "text/plain": [
       "        id       nct_id agency_class lead_or_collaborator  \\\n",
       "0  1785414  NCT03328455        Other                 lead   \n",
       "1  1785415  NCT03329326        Other                 lead   \n",
       "2  1785416  NCT03329326        Other         collaborator   \n",
       "3  1785417  NCT03329326        Other         collaborator   \n",
       "4  1785418  NCT03329326        Other         collaborator   \n",
       "\n",
       "                                   name  \n",
       "0            University of Nevada, Reno  \n",
       "1          Medical University of Vienna  \n",
       "2  University Medical Center Goettingen  \n",
       "3                       Lund University  \n",
       "4             Örebro University, Sweden  "
      ]
     },
     "execution_count": 3,
     "metadata": {},
     "output_type": "execute_result"
    }
   ],
   "source": [
    "# Import sponsors text file\n",
    "sponsors = pd.read_csv('C:/Users/akapoor/Music/01 Docs/HealthCare App/ctdb/sponsors.txt', sep=\"|\")\n",
    "\n",
    "sponsors.head()"
   ]
  },
  {
   "cell_type": "code",
   "execution_count": null,
   "metadata": {
    "collapsed": true
   },
   "outputs": [],
   "source": []
  }
 ],
 "metadata": {
  "kernelspec": {
   "display_name": "Python 3",
   "language": "python",
   "name": "python3"
  },
  "language_info": {
   "codemirror_mode": {
    "name": "ipython",
    "version": 3
   },
   "file_extension": ".py",
   "mimetype": "text/x-python",
   "name": "python",
   "nbconvert_exporter": "python",
   "pygments_lexer": "ipython3",
   "version": "3.6.2"
  }
 },
 "nbformat": 4,
 "nbformat_minor": 2
}
