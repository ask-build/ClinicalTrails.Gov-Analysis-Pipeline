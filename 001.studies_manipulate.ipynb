{
 "cells": [
  {
   "cell_type": "code",
   "execution_count": 1,
   "metadata": {
    "collapsed": true
   },
   "outputs": [],
   "source": [
    "import pandas as pd\n",
    "from pandas import Series, DataFrame\n",
    "\n",
    "import matplotlib.pyplot as plt\n",
    "from pylab import rcParams\n",
    "\n",
    "import numpy as np\n",
    "import seaborn as sb\n"
   ]
  },
  {
   "cell_type": "code",
   "execution_count": 2,
   "metadata": {},
   "outputs": [
    {
     "name": "stderr",
     "output_type": "stream",
     "text": [
      "C:\\Anaconda\\lib\\site-packages\\IPython\\core\\interactiveshell.py:2698: DtypeWarning: Columns (24,34,35,36) have mixed types. Specify dtype option on import or set low_memory=False.\n",
      "  interactivity=interactivity, compiler=compiler, result=result)\n"
     ]
    }
   ],
   "source": [
    "# Import studies text file\n",
    "studies = pd.read_csv('C:/Users/AKapoor/Videos/Clinical Trials/ctgovdata/studies.txt', sep=\"|\")"
   ]
  },
  {
   "cell_type": "code",
   "execution_count": 12,
   "metadata": {},
   "outputs": [
    {
     "data": {
      "text/html": [
       "<div>\n",
       "<style scoped>\n",
       "    .dataframe tbody tr th:only-of-type {\n",
       "        vertical-align: middle;\n",
       "    }\n",
       "\n",
       "    .dataframe tbody tr th {\n",
       "        vertical-align: top;\n",
       "    }\n",
       "\n",
       "    .dataframe thead th {\n",
       "        text-align: right;\n",
       "    }\n",
       "</style>\n",
       "<table border=\"1\" class=\"dataframe\">\n",
       "  <thead>\n",
       "    <tr style=\"text-align: right;\">\n",
       "      <th></th>\n",
       "      <th>nct_id</th>\n",
       "      <th>nlm_download_date_description</th>\n",
       "      <th>first_received_date</th>\n",
       "      <th>last_changed_date</th>\n",
       "      <th>first_received_results_date</th>\n",
       "      <th>received_results_disposit_date</th>\n",
       "      <th>start_month_year</th>\n",
       "      <th>start_date_type</th>\n",
       "      <th>start_date</th>\n",
       "      <th>verification_month_year</th>\n",
       "      <th>...</th>\n",
       "      <th>is_fda_regulated_device</th>\n",
       "      <th>is_unapproved_device</th>\n",
       "      <th>is_ppsd</th>\n",
       "      <th>is_us_export</th>\n",
       "      <th>biospec_retention</th>\n",
       "      <th>biospec_description</th>\n",
       "      <th>plan_to_share_ipd</th>\n",
       "      <th>plan_to_share_ipd_description</th>\n",
       "      <th>created_at</th>\n",
       "      <th>updated_at</th>\n",
       "    </tr>\n",
       "  </thead>\n",
       "  <tbody>\n",
       "    <tr>\n",
       "      <th>0</th>\n",
       "      <td>NCT03303261</td>\n",
       "      <td>ClinicalTrials.gov processed this data on Octo...</td>\n",
       "      <td>2017-10-02</td>\n",
       "      <td>2017-10-02</td>\n",
       "      <td>NaN</td>\n",
       "      <td>NaN</td>\n",
       "      <td>April 18, 2016</td>\n",
       "      <td>Actual</td>\n",
       "      <td>2016-04-18</td>\n",
       "      <td>October 2017</td>\n",
       "      <td>...</td>\n",
       "      <td>f</td>\n",
       "      <td>NaN</td>\n",
       "      <td>NaN</td>\n",
       "      <td>NaN</td>\n",
       "      <td>NaN</td>\n",
       "      <td>NaN</td>\n",
       "      <td>NaN</td>\n",
       "      <td>NaN</td>\n",
       "      <td>2017-10-10 20:40:00.452499</td>\n",
       "      <td>2017-10-10 20:40:00.452499</td>\n",
       "    </tr>\n",
       "    <tr>\n",
       "      <th>1</th>\n",
       "      <td>NCT03292679</td>\n",
       "      <td>ClinicalTrials.gov processed this data on Octo...</td>\n",
       "      <td>2017-09-20</td>\n",
       "      <td>2017-09-20</td>\n",
       "      <td>NaN</td>\n",
       "      <td>NaN</td>\n",
       "      <td>October 2017</td>\n",
       "      <td>Anticipated</td>\n",
       "      <td>2017-10-01</td>\n",
       "      <td>September 2017</td>\n",
       "      <td>...</td>\n",
       "      <td>f</td>\n",
       "      <td>NaN</td>\n",
       "      <td>NaN</td>\n",
       "      <td>NaN</td>\n",
       "      <td>NaN</td>\n",
       "      <td>NaN</td>\n",
       "      <td>NaN</td>\n",
       "      <td>NaN</td>\n",
       "      <td>2017-10-10 20:41:35.778202</td>\n",
       "      <td>2017-10-10 20:41:35.778202</td>\n",
       "    </tr>\n",
       "    <tr>\n",
       "      <th>2</th>\n",
       "      <td>NCT03296514</td>\n",
       "      <td>ClinicalTrials.gov processed this data on Octo...</td>\n",
       "      <td>2017-09-20</td>\n",
       "      <td>2017-09-27</td>\n",
       "      <td>NaN</td>\n",
       "      <td>NaN</td>\n",
       "      <td>July 1, 2017</td>\n",
       "      <td>Actual</td>\n",
       "      <td>2017-07-01</td>\n",
       "      <td>September 2017</td>\n",
       "      <td>...</td>\n",
       "      <td>f</td>\n",
       "      <td>NaN</td>\n",
       "      <td>NaN</td>\n",
       "      <td>NaN</td>\n",
       "      <td>NaN</td>\n",
       "      <td>NaN</td>\n",
       "      <td>NaN</td>\n",
       "      <td>NaN</td>\n",
       "      <td>2017-10-10 20:41:00.541701</td>\n",
       "      <td>2017-10-10 20:41:00.541701</td>\n",
       "    </tr>\n",
       "    <tr>\n",
       "      <th>3</th>\n",
       "      <td>NCT03128892</td>\n",
       "      <td>ClinicalTrials.gov processed this data on Octo...</td>\n",
       "      <td>2017-04-14</td>\n",
       "      <td>2017-04-20</td>\n",
       "      <td>NaN</td>\n",
       "      <td>NaN</td>\n",
       "      <td>June 10, 2016</td>\n",
       "      <td>NaN</td>\n",
       "      <td>2016-06-10</td>\n",
       "      <td>NaN</td>\n",
       "      <td>...</td>\n",
       "      <td>NaN</td>\n",
       "      <td>NaN</td>\n",
       "      <td>NaN</td>\n",
       "      <td>NaN</td>\n",
       "      <td>NaN</td>\n",
       "      <td>NaN</td>\n",
       "      <td>NaN</td>\n",
       "      <td>NaN</td>\n",
       "      <td>2017-10-10 21:08:03.623608</td>\n",
       "      <td>2017-10-10 21:08:03.623608</td>\n",
       "    </tr>\n",
       "    <tr>\n",
       "      <th>4</th>\n",
       "      <td>NCT03304262</td>\n",
       "      <td>ClinicalTrials.gov processed this data on Octo...</td>\n",
       "      <td>2017-09-21</td>\n",
       "      <td>2017-10-02</td>\n",
       "      <td>NaN</td>\n",
       "      <td>NaN</td>\n",
       "      <td>July 18, 2017</td>\n",
       "      <td>Actual</td>\n",
       "      <td>2017-07-18</td>\n",
       "      <td>October 2017</td>\n",
       "      <td>...</td>\n",
       "      <td>t</td>\n",
       "      <td>f</td>\n",
       "      <td>f</td>\n",
       "      <td>NaN</td>\n",
       "      <td>NaN</td>\n",
       "      <td>NaN</td>\n",
       "      <td>NaN</td>\n",
       "      <td>NaN</td>\n",
       "      <td>2017-10-10 20:39:52.031802</td>\n",
       "      <td>2017-10-10 20:39:52.031802</td>\n",
       "    </tr>\n",
       "  </tbody>\n",
       "</table>\n",
       "<p>5 rows × 49 columns</p>\n",
       "</div>"
      ],
      "text/plain": [
       "        nct_id                      nlm_download_date_description  \\\n",
       "0  NCT03303261  ClinicalTrials.gov processed this data on Octo...   \n",
       "1  NCT03292679  ClinicalTrials.gov processed this data on Octo...   \n",
       "2  NCT03296514  ClinicalTrials.gov processed this data on Octo...   \n",
       "3  NCT03128892  ClinicalTrials.gov processed this data on Octo...   \n",
       "4  NCT03304262  ClinicalTrials.gov processed this data on Octo...   \n",
       "\n",
       "  first_received_date last_changed_date first_received_results_date  \\\n",
       "0          2017-10-02        2017-10-02                         NaN   \n",
       "1          2017-09-20        2017-09-20                         NaN   \n",
       "2          2017-09-20        2017-09-27                         NaN   \n",
       "3          2017-04-14        2017-04-20                         NaN   \n",
       "4          2017-09-21        2017-10-02                         NaN   \n",
       "\n",
       "  received_results_disposit_date start_month_year start_date_type  start_date  \\\n",
       "0                            NaN   April 18, 2016          Actual  2016-04-18   \n",
       "1                            NaN     October 2017     Anticipated  2017-10-01   \n",
       "2                            NaN     July 1, 2017          Actual  2017-07-01   \n",
       "3                            NaN    June 10, 2016             NaN  2016-06-10   \n",
       "4                            NaN    July 18, 2017          Actual  2017-07-18   \n",
       "\n",
       "  verification_month_year             ...             is_fda_regulated_device  \\\n",
       "0            October 2017             ...                                   f   \n",
       "1          September 2017             ...                                   f   \n",
       "2          September 2017             ...                                   f   \n",
       "3                     NaN             ...                                 NaN   \n",
       "4            October 2017             ...                                   t   \n",
       "\n",
       "  is_unapproved_device is_ppsd is_us_export biospec_retention  \\\n",
       "0                  NaN     NaN          NaN               NaN   \n",
       "1                  NaN     NaN          NaN               NaN   \n",
       "2                  NaN     NaN          NaN               NaN   \n",
       "3                  NaN     NaN          NaN               NaN   \n",
       "4                    f       f          NaN               NaN   \n",
       "\n",
       "  biospec_description plan_to_share_ipd plan_to_share_ipd_description  \\\n",
       "0                 NaN               NaN                           NaN   \n",
       "1                 NaN               NaN                           NaN   \n",
       "2                 NaN               NaN                           NaN   \n",
       "3                 NaN               NaN                           NaN   \n",
       "4                 NaN               NaN                           NaN   \n",
       "\n",
       "                   created_at                  updated_at  \n",
       "0  2017-10-10 20:40:00.452499  2017-10-10 20:40:00.452499  \n",
       "1  2017-10-10 20:41:35.778202  2017-10-10 20:41:35.778202  \n",
       "2  2017-10-10 20:41:00.541701  2017-10-10 20:41:00.541701  \n",
       "3  2017-10-10 21:08:03.623608  2017-10-10 21:08:03.623608  \n",
       "4  2017-10-10 20:39:52.031802  2017-10-10 20:39:52.031802  \n",
       "\n",
       "[5 rows x 49 columns]"
      ]
     },
     "execution_count": 12,
     "metadata": {},
     "output_type": "execute_result"
    }
   ],
   "source": [
    "studies.head()"
   ]
  },
  {
   "cell_type": "code",
   "execution_count": 4,
   "metadata": {
    "collapsed": true
   },
   "outputs": [],
   "source": [
    "# Keep relevant columns only (23 columns of 49)\n",
    "#studies_a=pd.DataFrame(studies,columns=['nct_id','overall_status'])\n",
    "\n",
    "studies_a = pd.DataFrame(studies, columns=['why_stopped','verification_date','target_duration','study_type','start_date_type','start_date','source','phase','overall_status','official_title','number_of_arms','nct_id','limitations_and_caveats','last_known_status','last_changed_date','is_unapproved_device','is_fda_regulated_drug','is_fda_regulated_device','enrollment_type','enrollment','completion_date','brief_title','baseline_population'])\n",
    "\n"
   ]
  },
  {
   "cell_type": "code",
   "execution_count": 8,
   "metadata": {
    "scrolled": true
   },
   "outputs": [
    {
     "data": {
      "text/html": [
       "<div>\n",
       "<style scoped>\n",
       "    .dataframe tbody tr th:only-of-type {\n",
       "        vertical-align: middle;\n",
       "    }\n",
       "\n",
       "    .dataframe tbody tr th {\n",
       "        vertical-align: top;\n",
       "    }\n",
       "\n",
       "    .dataframe thead th {\n",
       "        text-align: right;\n",
       "    }\n",
       "</style>\n",
       "<table border=\"1\" class=\"dataframe\">\n",
       "  <thead>\n",
       "    <tr style=\"text-align: right;\">\n",
       "      <th></th>\n",
       "      <th>why_stopped</th>\n",
       "      <th>verification_date</th>\n",
       "      <th>target_duration</th>\n",
       "      <th>study_type</th>\n",
       "      <th>start_date_type</th>\n",
       "      <th>start_date</th>\n",
       "      <th>source</th>\n",
       "      <th>phase</th>\n",
       "      <th>overall_status</th>\n",
       "      <th>official_title</th>\n",
       "      <th>...</th>\n",
       "      <th>last_known_status</th>\n",
       "      <th>last_changed_date</th>\n",
       "      <th>is_unapproved_device</th>\n",
       "      <th>is_fda_regulated_drug</th>\n",
       "      <th>is_fda_regulated_device</th>\n",
       "      <th>enrollment_type</th>\n",
       "      <th>enrollment</th>\n",
       "      <th>completion_date</th>\n",
       "      <th>brief_title</th>\n",
       "      <th>baseline_population</th>\n",
       "    </tr>\n",
       "  </thead>\n",
       "  <tbody>\n",
       "    <tr>\n",
       "      <th>0</th>\n",
       "      <td>NaN</td>\n",
       "      <td>2017-10-01</td>\n",
       "      <td>NaN</td>\n",
       "      <td>Observational</td>\n",
       "      <td>Actual</td>\n",
       "      <td>2016-04-18</td>\n",
       "      <td>Groupe Hospitalier Paris Saint Joseph</td>\n",
       "      <td>NaN</td>\n",
       "      <td>Recruiting</td>\n",
       "      <td>Study On Discopathie With Modic 1</td>\n",
       "      <td>...</td>\n",
       "      <td>NaN</td>\n",
       "      <td>2017-10-02</td>\n",
       "      <td>NaN</td>\n",
       "      <td>f</td>\n",
       "      <td>f</td>\n",
       "      <td>Anticipated</td>\n",
       "      <td>50.0</td>\n",
       "      <td>2017-12-31</td>\n",
       "      <td>Study On Discopathie With Modic 1</td>\n",
       "      <td>NaN</td>\n",
       "    </tr>\n",
       "    <tr>\n",
       "      <th>1</th>\n",
       "      <td>NaN</td>\n",
       "      <td>2017-09-01</td>\n",
       "      <td>NaN</td>\n",
       "      <td>Interventional</td>\n",
       "      <td>Anticipated</td>\n",
       "      <td>2017-10-01</td>\n",
       "      <td>University of Maryland</td>\n",
       "      <td>NaN</td>\n",
       "      <td>Not yet recruiting</td>\n",
       "      <td>Craniofacial Applications of 3D Printing</td>\n",
       "      <td>...</td>\n",
       "      <td>NaN</td>\n",
       "      <td>2017-09-20</td>\n",
       "      <td>NaN</td>\n",
       "      <td>f</td>\n",
       "      <td>f</td>\n",
       "      <td>Anticipated</td>\n",
       "      <td>60.0</td>\n",
       "      <td>2019-09-01</td>\n",
       "      <td>Craniofacial Applications of 3D Printing</td>\n",
       "      <td>NaN</td>\n",
       "    </tr>\n",
       "    <tr>\n",
       "      <th>2</th>\n",
       "      <td>NaN</td>\n",
       "      <td>2017-09-01</td>\n",
       "      <td>NaN</td>\n",
       "      <td>Interventional</td>\n",
       "      <td>Actual</td>\n",
       "      <td>2017-07-01</td>\n",
       "      <td>Yale University</td>\n",
       "      <td>NaN</td>\n",
       "      <td>Recruiting</td>\n",
       "      <td>Mindfulness-Based Stress Reduction Study for C...</td>\n",
       "      <td>...</td>\n",
       "      <td>NaN</td>\n",
       "      <td>2017-09-27</td>\n",
       "      <td>NaN</td>\n",
       "      <td>f</td>\n",
       "      <td>f</td>\n",
       "      <td>Anticipated</td>\n",
       "      <td>40.0</td>\n",
       "      <td>2018-07-01</td>\n",
       "      <td>Mindfulness Based Stress Reduction for Metabol...</td>\n",
       "      <td>NaN</td>\n",
       "    </tr>\n",
       "    <tr>\n",
       "      <th>3</th>\n",
       "      <td>NaN</td>\n",
       "      <td>NaN</td>\n",
       "      <td>NaN</td>\n",
       "      <td>NaN</td>\n",
       "      <td>NaN</td>\n",
       "      <td>2016-06-10</td>\n",
       "      <td>[Redacted]</td>\n",
       "      <td>NaN</td>\n",
       "      <td>Withheld</td>\n",
       "      <td>[Trial of device that is not approved or clear...</td>\n",
       "      <td>...</td>\n",
       "      <td>NaN</td>\n",
       "      <td>2017-04-20</td>\n",
       "      <td>NaN</td>\n",
       "      <td>NaN</td>\n",
       "      <td>NaN</td>\n",
       "      <td>NaN</td>\n",
       "      <td>NaN</td>\n",
       "      <td>NaN</td>\n",
       "      <td>[Trial of device that is not approved or clear...</td>\n",
       "      <td>NaN</td>\n",
       "    </tr>\n",
       "    <tr>\n",
       "      <th>4</th>\n",
       "      <td>NaN</td>\n",
       "      <td>2017-10-01</td>\n",
       "      <td>NaN</td>\n",
       "      <td>Interventional</td>\n",
       "      <td>Actual</td>\n",
       "      <td>2017-07-18</td>\n",
       "      <td>University of New Mexico</td>\n",
       "      <td>NaN</td>\n",
       "      <td>Recruiting</td>\n",
       "      <td>Metaplasticity in the Human Motor Cortex: Vali...</td>\n",
       "      <td>...</td>\n",
       "      <td>NaN</td>\n",
       "      <td>2017-10-02</td>\n",
       "      <td>f</td>\n",
       "      <td>f</td>\n",
       "      <td>t</td>\n",
       "      <td>Anticipated</td>\n",
       "      <td>16.0</td>\n",
       "      <td>2018-03-31</td>\n",
       "      <td>Metaplasticity in the Human Motor Cortex Exper...</td>\n",
       "      <td>NaN</td>\n",
       "    </tr>\n",
       "  </tbody>\n",
       "</table>\n",
       "<p>5 rows × 23 columns</p>\n",
       "</div>"
      ],
      "text/plain": [
       "  why_stopped verification_date target_duration      study_type  \\\n",
       "0         NaN        2017-10-01             NaN   Observational   \n",
       "1         NaN        2017-09-01             NaN  Interventional   \n",
       "2         NaN        2017-09-01             NaN  Interventional   \n",
       "3         NaN               NaN             NaN             NaN   \n",
       "4         NaN        2017-10-01             NaN  Interventional   \n",
       "\n",
       "  start_date_type  start_date                                 source phase  \\\n",
       "0          Actual  2016-04-18  Groupe Hospitalier Paris Saint Joseph   NaN   \n",
       "1     Anticipated  2017-10-01                 University of Maryland   NaN   \n",
       "2          Actual  2017-07-01                        Yale University   NaN   \n",
       "3             NaN  2016-06-10                             [Redacted]   NaN   \n",
       "4          Actual  2017-07-18               University of New Mexico   NaN   \n",
       "\n",
       "       overall_status                                     official_title  \\\n",
       "0          Recruiting                  Study On Discopathie With Modic 1   \n",
       "1  Not yet recruiting           Craniofacial Applications of 3D Printing   \n",
       "2          Recruiting  Mindfulness-Based Stress Reduction Study for C...   \n",
       "3            Withheld  [Trial of device that is not approved or clear...   \n",
       "4          Recruiting  Metaplasticity in the Human Motor Cortex: Vali...   \n",
       "\n",
       "          ...           last_known_status last_changed_date  \\\n",
       "0         ...                         NaN        2017-10-02   \n",
       "1         ...                         NaN        2017-09-20   \n",
       "2         ...                         NaN        2017-09-27   \n",
       "3         ...                         NaN        2017-04-20   \n",
       "4         ...                         NaN        2017-10-02   \n",
       "\n",
       "  is_unapproved_device is_fda_regulated_drug is_fda_regulated_device  \\\n",
       "0                  NaN                     f                       f   \n",
       "1                  NaN                     f                       f   \n",
       "2                  NaN                     f                       f   \n",
       "3                  NaN                   NaN                     NaN   \n",
       "4                    f                     f                       t   \n",
       "\n",
       "  enrollment_type enrollment completion_date  \\\n",
       "0     Anticipated       50.0      2017-12-31   \n",
       "1     Anticipated       60.0      2019-09-01   \n",
       "2     Anticipated       40.0      2018-07-01   \n",
       "3             NaN        NaN             NaN   \n",
       "4     Anticipated       16.0      2018-03-31   \n",
       "\n",
       "                                         brief_title  baseline_population  \n",
       "0                  Study On Discopathie With Modic 1                  NaN  \n",
       "1           Craniofacial Applications of 3D Printing                  NaN  \n",
       "2  Mindfulness Based Stress Reduction for Metabol...                  NaN  \n",
       "3  [Trial of device that is not approved or clear...                  NaN  \n",
       "4  Metaplasticity in the Human Motor Cortex Exper...                  NaN  \n",
       "\n",
       "[5 rows x 23 columns]"
      ]
     },
     "execution_count": 8,
     "metadata": {},
     "output_type": "execute_result"
    }
   ],
   "source": [
    "studies_a.head()"
   ]
  },
  {
   "cell_type": "code",
   "execution_count": 10,
   "metadata": {},
   "outputs": [
    {
     "data": {
      "text/plain": [
       "258053"
      ]
     },
     "execution_count": 10,
     "metadata": {},
     "output_type": "execute_result"
    }
   ],
   "source": [
    "studies_a.nct_id.count()\n",
    "\n",
    "#studies_a.join(other, on=None, how='left', lsuffix='', rsuffix='', sort=False)"
   ]
  },
  {
   "cell_type": "code",
   "execution_count": 14,
   "metadata": {
    "collapsed": true
   },
   "outputs": [],
   "source": [
    "#---------Load Countries data set-------------\n",
    "\n",
    "countries = pd.read_csv('C:/Users/AKapoor/Videos/Clinical Trials/ctgovdata/countries.txt', sep=\"|\")"
   ]
  },
  {
   "cell_type": "code",
   "execution_count": 15,
   "metadata": {
    "scrolled": true
   },
   "outputs": [
    {
     "data": {
      "text/plain": [
       "379080"
      ]
     },
     "execution_count": 15,
     "metadata": {},
     "output_type": "execute_result"
    }
   ],
   "source": [
    "countries.nct_id.count()"
   ]
  },
  {
   "cell_type": "code",
   "execution_count": 9,
   "metadata": {
    "collapsed": true
   },
   "outputs": [],
   "source": [
    "countries=countries.rename(columns={'name':'country'})"
   ]
  },
  {
   "cell_type": "code",
   "execution_count": 15,
   "metadata": {},
   "outputs": [
    {
     "data": {
      "text/html": [
       "<div>\n",
       "<style scoped>\n",
       "    .dataframe tbody tr th:only-of-type {\n",
       "        vertical-align: middle;\n",
       "    }\n",
       "\n",
       "    .dataframe tbody tr th {\n",
       "        vertical-align: top;\n",
       "    }\n",
       "\n",
       "    .dataframe thead th {\n",
       "        text-align: right;\n",
       "    }\n",
       "</style>\n",
       "<table border=\"1\" class=\"dataframe\">\n",
       "  <thead>\n",
       "    <tr style=\"text-align: right;\">\n",
       "      <th></th>\n",
       "      <th>id</th>\n",
       "      <th>nct_id</th>\n",
       "      <th>country</th>\n",
       "      <th>removed</th>\n",
       "    </tr>\n",
       "  </thead>\n",
       "  <tbody>\n",
       "    <tr>\n",
       "      <th>0</th>\n",
       "      <td>1700677</td>\n",
       "      <td>NCT03308747</td>\n",
       "      <td>Greece</td>\n",
       "      <td>NaN</td>\n",
       "    </tr>\n",
       "    <tr>\n",
       "      <th>1</th>\n",
       "      <td>1700678</td>\n",
       "      <td>NCT03309722</td>\n",
       "      <td>United Kingdom</td>\n",
       "      <td>NaN</td>\n",
       "    </tr>\n",
       "    <tr>\n",
       "      <th>2</th>\n",
       "      <td>1700680</td>\n",
       "      <td>NCT03309696</td>\n",
       "      <td>United States</td>\n",
       "      <td>NaN</td>\n",
       "    </tr>\n",
       "    <tr>\n",
       "      <th>3</th>\n",
       "      <td>1700681</td>\n",
       "      <td>NCT03309670</td>\n",
       "      <td>France</td>\n",
       "      <td>NaN</td>\n",
       "    </tr>\n",
       "    <tr>\n",
       "      <th>4</th>\n",
       "      <td>1700686</td>\n",
       "      <td>NCT03309579</td>\n",
       "      <td>Canada</td>\n",
       "      <td>NaN</td>\n",
       "    </tr>\n",
       "  </tbody>\n",
       "</table>\n",
       "</div>"
      ],
      "text/plain": [
       "        id       nct_id         country removed\n",
       "0  1700677  NCT03308747          Greece     NaN\n",
       "1  1700678  NCT03309722  United Kingdom     NaN\n",
       "2  1700680  NCT03309696   United States     NaN\n",
       "3  1700681  NCT03309670          France     NaN\n",
       "4  1700686  NCT03309579          Canada     NaN"
      ]
     },
     "execution_count": 15,
     "metadata": {},
     "output_type": "execute_result"
    }
   ],
   "source": [
    "countries.head()"
   ]
  },
  {
   "cell_type": "code",
   "execution_count": 36,
   "metadata": {},
   "outputs": [
    {
     "data": {
      "text/plain": [
       "379080"
      ]
     },
     "execution_count": 36,
     "metadata": {},
     "output_type": "execute_result"
    }
   ],
   "source": [
    "countries.nct_id.count()"
   ]
  },
  {
   "cell_type": "code",
   "execution_count": 19,
   "metadata": {
    "collapsed": true
   },
   "outputs": [],
   "source": [
    "countries_a=countries[countries.country == \"United States\"]"
   ]
  },
  {
   "cell_type": "code",
   "execution_count": 20,
   "metadata": {},
   "outputs": [
    {
     "data": {
      "text/html": [
       "<div>\n",
       "<style scoped>\n",
       "    .dataframe tbody tr th:only-of-type {\n",
       "        vertical-align: middle;\n",
       "    }\n",
       "\n",
       "    .dataframe tbody tr th {\n",
       "        vertical-align: top;\n",
       "    }\n",
       "\n",
       "    .dataframe thead th {\n",
       "        text-align: right;\n",
       "    }\n",
       "</style>\n",
       "<table border=\"1\" class=\"dataframe\">\n",
       "  <thead>\n",
       "    <tr style=\"text-align: right;\">\n",
       "      <th></th>\n",
       "      <th>id</th>\n",
       "      <th>nct_id</th>\n",
       "      <th>country</th>\n",
       "      <th>removed</th>\n",
       "    </tr>\n",
       "  </thead>\n",
       "  <tbody>\n",
       "    <tr>\n",
       "      <th>2</th>\n",
       "      <td>1700680</td>\n",
       "      <td>NCT03309696</td>\n",
       "      <td>United States</td>\n",
       "      <td>NaN</td>\n",
       "    </tr>\n",
       "    <tr>\n",
       "      <th>6</th>\n",
       "      <td>1700688</td>\n",
       "      <td>NCT03309553</td>\n",
       "      <td>United States</td>\n",
       "      <td>NaN</td>\n",
       "    </tr>\n",
       "    <tr>\n",
       "      <th>17</th>\n",
       "      <td>1700701</td>\n",
       "      <td>NCT03309332</td>\n",
       "      <td>United States</td>\n",
       "      <td>NaN</td>\n",
       "    </tr>\n",
       "    <tr>\n",
       "      <th>23</th>\n",
       "      <td>1700707</td>\n",
       "      <td>NCT03309241</td>\n",
       "      <td>United States</td>\n",
       "      <td>NaN</td>\n",
       "    </tr>\n",
       "    <tr>\n",
       "      <th>32</th>\n",
       "      <td>1700716</td>\n",
       "      <td>NCT03309111</td>\n",
       "      <td>United States</td>\n",
       "      <td>NaN</td>\n",
       "    </tr>\n",
       "  </tbody>\n",
       "</table>\n",
       "</div>"
      ],
      "text/plain": [
       "         id       nct_id        country removed\n",
       "2   1700680  NCT03309696  United States     NaN\n",
       "6   1700688  NCT03309553  United States     NaN\n",
       "17  1700701  NCT03309332  United States     NaN\n",
       "23  1700707  NCT03309241  United States     NaN\n",
       "32  1700716  NCT03309111  United States     NaN"
      ]
     },
     "execution_count": 20,
     "metadata": {},
     "output_type": "execute_result"
    }
   ],
   "source": [
    "countries_a.head()"
   ]
  },
  {
   "cell_type": "code",
   "execution_count": 21,
   "metadata": {},
   "outputs": [
    {
     "data": {
      "text/plain": [
       "109997"
      ]
     },
     "execution_count": 21,
     "metadata": {},
     "output_type": "execute_result"
    }
   ],
   "source": [
    "countries_a.nct_id.count()"
   ]
  },
  {
   "cell_type": "code",
   "execution_count": 34,
   "metadata": {
    "collapsed": true
   },
   "outputs": [],
   "source": [
    "#------Merge Countries to Studies_a ---------#\n",
    "\n",
    "#studies_b=pd.merge(studies_a,countries, how='left',on='nct_id')\n",
    "\n",
    "studies_b=countries.merge(studies_a, left_on='nct_id',right_on='nct_id', how='left')"
   ]
  },
  {
   "cell_type": "code",
   "execution_count": 35,
   "metadata": {
    "scrolled": true
   },
   "outputs": [
    {
     "data": {
      "text/plain": [
       "379080"
      ]
     },
     "execution_count": 35,
     "metadata": {},
     "output_type": "execute_result"
    }
   ],
   "source": [
    "studies_b.nct_id.count()"
   ]
  },
  {
   "cell_type": "code",
   "execution_count": 40,
   "metadata": {
    "collapsed": true
   },
   "outputs": [],
   "source": [
    "studies_c=studies_b[studies_b.country == \"United States\"]"
   ]
  },
  {
   "cell_type": "code",
   "execution_count": 41,
   "metadata": {},
   "outputs": [
    {
     "data": {
      "text/plain": [
       "109997"
      ]
     },
     "execution_count": 41,
     "metadata": {},
     "output_type": "execute_result"
    }
   ],
   "source": [
    "studies_c.nct_id.count()"
   ]
  },
  {
   "cell_type": "code",
   "execution_count": 42,
   "metadata": {},
   "outputs": [
    {
     "data": {
      "text/html": [
       "<div>\n",
       "<style scoped>\n",
       "    .dataframe tbody tr th:only-of-type {\n",
       "        vertical-align: middle;\n",
       "    }\n",
       "\n",
       "    .dataframe tbody tr th {\n",
       "        vertical-align: top;\n",
       "    }\n",
       "\n",
       "    .dataframe thead th {\n",
       "        text-align: right;\n",
       "    }\n",
       "</style>\n",
       "<table border=\"1\" class=\"dataframe\">\n",
       "  <thead>\n",
       "    <tr style=\"text-align: right;\">\n",
       "      <th></th>\n",
       "      <th>id</th>\n",
       "      <th>nct_id</th>\n",
       "      <th>country</th>\n",
       "      <th>removed</th>\n",
       "      <th>why_stopped</th>\n",
       "      <th>verification_date</th>\n",
       "      <th>target_duration</th>\n",
       "      <th>study_type</th>\n",
       "      <th>start_date_type</th>\n",
       "      <th>start_date</th>\n",
       "      <th>...</th>\n",
       "      <th>last_known_status</th>\n",
       "      <th>last_changed_date</th>\n",
       "      <th>is_unapproved_device</th>\n",
       "      <th>is_fda_regulated_drug</th>\n",
       "      <th>is_fda_regulated_device</th>\n",
       "      <th>enrollment_type</th>\n",
       "      <th>enrollment</th>\n",
       "      <th>completion_date</th>\n",
       "      <th>brief_title</th>\n",
       "      <th>baseline_population</th>\n",
       "    </tr>\n",
       "  </thead>\n",
       "  <tbody>\n",
       "    <tr>\n",
       "      <th>2</th>\n",
       "      <td>1700680</td>\n",
       "      <td>NCT03309696</td>\n",
       "      <td>United States</td>\n",
       "      <td>NaN</td>\n",
       "      <td>NaN</td>\n",
       "      <td>2017-10-01</td>\n",
       "      <td>NaN</td>\n",
       "      <td>Interventional</td>\n",
       "      <td>Anticipated</td>\n",
       "      <td>2017-10-30</td>\n",
       "      <td>...</td>\n",
       "      <td>NaN</td>\n",
       "      <td>2017-10-09</td>\n",
       "      <td>t</td>\n",
       "      <td>f</td>\n",
       "      <td>t</td>\n",
       "      <td>Anticipated</td>\n",
       "      <td>20.0</td>\n",
       "      <td>2019-10-30</td>\n",
       "      <td>Regulating Homeostatic Plasticity and the Phys...</td>\n",
       "      <td>NaN</td>\n",
       "    </tr>\n",
       "    <tr>\n",
       "      <th>6</th>\n",
       "      <td>1700688</td>\n",
       "      <td>NCT03309553</td>\n",
       "      <td>United States</td>\n",
       "      <td>NaN</td>\n",
       "      <td>NaN</td>\n",
       "      <td>2017-10-01</td>\n",
       "      <td>NaN</td>\n",
       "      <td>Interventional</td>\n",
       "      <td>Actual</td>\n",
       "      <td>2017-09-14</td>\n",
       "      <td>...</td>\n",
       "      <td>NaN</td>\n",
       "      <td>2017-10-09</td>\n",
       "      <td>NaN</td>\n",
       "      <td>f</td>\n",
       "      <td>f</td>\n",
       "      <td>Anticipated</td>\n",
       "      <td>1900.0</td>\n",
       "      <td>2020-02-01</td>\n",
       "      <td>Reducing Childhood Hearing Loss in an Alaska N...</td>\n",
       "      <td>NaN</td>\n",
       "    </tr>\n",
       "    <tr>\n",
       "      <th>17</th>\n",
       "      <td>1700701</td>\n",
       "      <td>NCT03309332</td>\n",
       "      <td>United States</td>\n",
       "      <td>NaN</td>\n",
       "      <td>NaN</td>\n",
       "      <td>2017-10-01</td>\n",
       "      <td>NaN</td>\n",
       "      <td>Interventional</td>\n",
       "      <td>Anticipated</td>\n",
       "      <td>2017-12-01</td>\n",
       "      <td>...</td>\n",
       "      <td>NaN</td>\n",
       "      <td>2017-10-12</td>\n",
       "      <td>f</td>\n",
       "      <td>f</td>\n",
       "      <td>t</td>\n",
       "      <td>Anticipated</td>\n",
       "      <td>1214.0</td>\n",
       "      <td>2025-12-01</td>\n",
       "      <td>AMPLATZER PFO Occluder Post Approval Study</td>\n",
       "      <td>NaN</td>\n",
       "    </tr>\n",
       "    <tr>\n",
       "      <th>23</th>\n",
       "      <td>1700707</td>\n",
       "      <td>NCT03309241</td>\n",
       "      <td>United States</td>\n",
       "      <td>NaN</td>\n",
       "      <td>NaN</td>\n",
       "      <td>2017-10-01</td>\n",
       "      <td>NaN</td>\n",
       "      <td>Interventional</td>\n",
       "      <td>Anticipated</td>\n",
       "      <td>2017-10-17</td>\n",
       "      <td>...</td>\n",
       "      <td>NaN</td>\n",
       "      <td>2017-10-10</td>\n",
       "      <td>NaN</td>\n",
       "      <td>t</td>\n",
       "      <td>f</td>\n",
       "      <td>Anticipated</td>\n",
       "      <td>24.0</td>\n",
       "      <td>2018-02-07</td>\n",
       "      <td>First In Human, Single Escalating Oral Dose St...</td>\n",
       "      <td>NaN</td>\n",
       "    </tr>\n",
       "    <tr>\n",
       "      <th>32</th>\n",
       "      <td>1700716</td>\n",
       "      <td>NCT03309111</td>\n",
       "      <td>United States</td>\n",
       "      <td>NaN</td>\n",
       "      <td>NaN</td>\n",
       "      <td>2017-10-01</td>\n",
       "      <td>NaN</td>\n",
       "      <td>Interventional</td>\n",
       "      <td>Anticipated</td>\n",
       "      <td>2017-10-01</td>\n",
       "      <td>...</td>\n",
       "      <td>NaN</td>\n",
       "      <td>2017-10-12</td>\n",
       "      <td>NaN</td>\n",
       "      <td>t</td>\n",
       "      <td>f</td>\n",
       "      <td>Anticipated</td>\n",
       "      <td>125.0</td>\n",
       "      <td>2020-04-01</td>\n",
       "      <td>Study of GBR 1342 in Subjects With Previously ...</td>\n",
       "      <td>NaN</td>\n",
       "    </tr>\n",
       "  </tbody>\n",
       "</table>\n",
       "<p>5 rows × 26 columns</p>\n",
       "</div>"
      ],
      "text/plain": [
       "         id       nct_id        country removed why_stopped verification_date  \\\n",
       "2   1700680  NCT03309696  United States     NaN         NaN        2017-10-01   \n",
       "6   1700688  NCT03309553  United States     NaN         NaN        2017-10-01   \n",
       "17  1700701  NCT03309332  United States     NaN         NaN        2017-10-01   \n",
       "23  1700707  NCT03309241  United States     NaN         NaN        2017-10-01   \n",
       "32  1700716  NCT03309111  United States     NaN         NaN        2017-10-01   \n",
       "\n",
       "   target_duration      study_type start_date_type  start_date  \\\n",
       "2              NaN  Interventional     Anticipated  2017-10-30   \n",
       "6              NaN  Interventional          Actual  2017-09-14   \n",
       "17             NaN  Interventional     Anticipated  2017-12-01   \n",
       "23             NaN  Interventional     Anticipated  2017-10-17   \n",
       "32             NaN  Interventional     Anticipated  2017-10-01   \n",
       "\n",
       "           ...         last_known_status last_changed_date  \\\n",
       "2          ...                       NaN        2017-10-09   \n",
       "6          ...                       NaN        2017-10-09   \n",
       "17         ...                       NaN        2017-10-12   \n",
       "23         ...                       NaN        2017-10-10   \n",
       "32         ...                       NaN        2017-10-12   \n",
       "\n",
       "   is_unapproved_device is_fda_regulated_drug  is_fda_regulated_device  \\\n",
       "2                     t                     f                        t   \n",
       "6                   NaN                     f                        f   \n",
       "17                    f                     f                        t   \n",
       "23                  NaN                     t                        f   \n",
       "32                  NaN                     t                        f   \n",
       "\n",
       "   enrollment_type enrollment completion_date  \\\n",
       "2      Anticipated       20.0      2019-10-30   \n",
       "6      Anticipated     1900.0      2020-02-01   \n",
       "17     Anticipated     1214.0      2025-12-01   \n",
       "23     Anticipated       24.0      2018-02-07   \n",
       "32     Anticipated      125.0      2020-04-01   \n",
       "\n",
       "                                          brief_title baseline_population  \n",
       "2   Regulating Homeostatic Plasticity and the Phys...                 NaN  \n",
       "6   Reducing Childhood Hearing Loss in an Alaska N...                 NaN  \n",
       "17         AMPLATZER PFO Occluder Post Approval Study                 NaN  \n",
       "23  First In Human, Single Escalating Oral Dose St...                 NaN  \n",
       "32  Study of GBR 1342 in Subjects With Previously ...                 NaN  \n",
       "\n",
       "[5 rows x 26 columns]"
      ]
     },
     "execution_count": 42,
     "metadata": {},
     "output_type": "execute_result"
    }
   ],
   "source": [
    "studies_c.head()"
   ]
  },
  {
   "cell_type": "code",
   "execution_count": 84,
   "metadata": {
    "collapsed": true
   },
   "outputs": [],
   "source": [
    "\n",
    "#---Only 2017 studies----------\n",
    "studies_d = studies_c[(studies_c['start_date'] >= '2017-01-01') & (studies_c['start_date'] <= '2017-12-31')]\n"
   ]
  },
  {
   "cell_type": "code",
   "execution_count": 112,
   "metadata": {
    "collapsed": true
   },
   "outputs": [],
   "source": [
    "#studies_d.nct_id.value_counts()"
   ]
  },
  {
   "cell_type": "code",
   "execution_count": 75,
   "metadata": {
    "collapsed": true
   },
   "outputs": [],
   "source": [
    "%matplotlib inline\n",
    "rcParams['figure.figsize'] = 8,4\n",
    "sb.set_style('whitegrid')"
   ]
  },
  {
   "cell_type": "code",
   "execution_count": 93,
   "metadata": {
    "collapsed": true
   },
   "outputs": [],
   "source": [
    "#fig1=sb.barplot(x='country',y='enrollment',data=studies_d)\n",
    "\n",
    "#plt.show()"
   ]
  },
  {
   "cell_type": "code",
   "execution_count": 86,
   "metadata": {},
   "outputs": [
    {
     "name": "stderr",
     "output_type": "stream",
     "text": [
      "C:\\Anaconda\\lib\\site-packages\\seaborn\\categorical.py:1460: FutureWarning: remove_na is deprecated and is a private function. Do not use.\n",
      "  stat_data = remove_na(group_data)\n"
     ]
    },
    {
     "ename": "NameError",
     "evalue": "name 'ax' is not defined",
     "output_type": "error",
     "traceback": [
      "\u001b[1;31m---------------------------------------------------------------------------\u001b[0m",
      "\u001b[1;31mNameError\u001b[0m                                 Traceback (most recent call last)",
      "\u001b[1;32m<ipython-input-86-12af44b96ca9>\u001b[0m in \u001b[0;36m<module>\u001b[1;34m()\u001b[0m\n\u001b[0;32m      3\u001b[0m \u001b[1;33m\u001b[0m\u001b[0m\n\u001b[0;32m      4\u001b[0m \u001b[0mfig2\u001b[0m\u001b[1;33m=\u001b[0m\u001b[0msns\u001b[0m\u001b[1;33m.\u001b[0m\u001b[0mcountplot\u001b[0m\u001b[1;33m(\u001b[0m\u001b[0mx\u001b[0m\u001b[1;33m=\u001b[0m\u001b[1;34m'phase'\u001b[0m\u001b[1;33m,\u001b[0m\u001b[0mdata\u001b[0m\u001b[1;33m=\u001b[0m\u001b[0mstudies_d\u001b[0m\u001b[1;33m,\u001b[0m\u001b[0mpalette\u001b[0m\u001b[1;33m=\u001b[0m\u001b[0msb\u001b[0m\u001b[1;33m.\u001b[0m\u001b[0mdark_palette\u001b[0m\u001b[1;33m(\u001b[0m\u001b[1;34m\"purple\"\u001b[0m\u001b[1;33m)\u001b[0m\u001b[1;33m)\u001b[0m\u001b[1;33m\u001b[0m\u001b[0m\n\u001b[1;32m----> 5\u001b[1;33m \u001b[0max\u001b[0m\u001b[1;33m.\u001b[0m\u001b[0mset_xlabel\u001b[0m\u001b[1;33m(\u001b[0m\u001b[1;34m'Phases'\u001b[0m\u001b[1;33m)\u001b[0m\u001b[1;33m\u001b[0m\u001b[0m\n\u001b[0m\u001b[0;32m      6\u001b[0m \u001b[0max\u001b[0m\u001b[1;33m.\u001b[0m\u001b[0mset_ylabel\u001b[0m\u001b[1;33m(\u001b[0m\u001b[1;34m'Study Count'\u001b[0m\u001b[1;33m)\u001b[0m\u001b[1;33m\u001b[0m\u001b[0m\n\u001b[0;32m      7\u001b[0m \u001b[1;33m\u001b[0m\u001b[0m\n",
      "\u001b[1;31mNameError\u001b[0m: name 'ax' is not defined"
     ]
    },
    {
     "data": {
      "image/png": "[encoded data removed]",
      "text/plain": [
       "<matplotlib.figure.Figure at 0xc89f8e8908>"
      ]
     },
     "metadata": {},
     "output_type": "display_data"
    }
   ],
   "source": [
    "%matplotlib inline\n",
    "rcParams['figure.figsize'] = 20,6\n",
    "\n",
    "fig2=sns.countplot(x='phase',data=studies_d,palette=sb.dark_palette(\"purple\"))\n",
    "ax.set_xlabel('Phases')\n",
    "ax.set_ylabel('Study Count')\n",
    "\n",
    "plt.show()"
   ]
  },
  {
   "cell_type": "code",
   "execution_count": 111,
   "metadata": {},
   "outputs": [
    {
     "name": "stderr",
     "output_type": "stream",
     "text": [
      "C:\\Anaconda\\lib\\site-packages\\seaborn\\categorical.py:1460: FutureWarning: remove_na is deprecated and is a private function. Do not use.\n",
      "  stat_data = remove_na(group_data)\n"
     ]
    },
    {
     "data": {
      "image/png": "[encoded data removed]",
      "text/plain": [
       "<matplotlib.figure.Figure at 0xc89f8ccb70>"
      ]
     },
     "metadata": {},
     "output_type": "display_data"
    }
   ],
   "source": [
    "%matplotlib inline\n",
    "rcParams['figure.figsize'] = 15,6\n",
    "#widths = [1, 1 ,1,1,1,1,1]\n",
    "sb.set_style('whitegrid')\n",
    "\n",
    "fig2=sns.countplot(x='phase',data=studies_d,palette=sb.color_palette(\"Blues\"))\n",
    "\n",
    "fig2.axes.set_title(\"Number of 2017 Studies by Phases\",fontsize=20)\n",
    "fig2.set_xlabel(\"Study Phase\",fontsize=15)\n",
    "fig2.set_ylabel(\"Study Count\",fontsize=15)\n",
    "fig2.tick_params(labelsize=12)\n",
    "\n",
    "plt.show()\n",
    "\n",
    "fig2.figure.savefig(\"fig2.png\")"
   ]
  },
  {
   "cell_type": "code",
   "execution_count": 136,
   "metadata": {},
   "outputs": [
    {
     "name": "stderr",
     "output_type": "stream",
     "text": [
      "C:\\Anaconda\\lib\\site-packages\\seaborn\\categorical.py:1460: FutureWarning: remove_na is deprecated and is a private function. Do not use.\n",
      "  stat_data = remove_na(group_data)\n"
     ]
    },
    {
     "data": {
      "image/png": "[encoded data removed]",
      "text/plain": [
       "<matplotlib.figure.Figure at 0xc89fff8320>"
      ]
     },
     "metadata": {},
     "output_type": "display_data"
    }
   ],
   "source": [
    "%matplotlib inline\n",
    "rcParams['figure.figsize'] = 16,7\n",
    "sb.set_style('whitegrid')\n",
    "\n",
    "fig3=sns.countplot(x='overall_status',data=studies_d,palette=sb.dark_palette(\"purple\"))\n",
    "\n",
    "fig3.axes.set_title(\"Number of 2017 Studies by Status\",fontsize=20)\n",
    "fig3.set_xlabel(\"Status\",fontsize=15)\n",
    "fig3.set_ylabel(\"Study Count\",fontsize=15)\n",
    "fig3.tick_params(labelsize=12)\n",
    "\n",
    "plt.show()\n",
    "\n",
    "fig3.figure.savefig(\"fig3.png\")"
   ]
  },
  {
   "cell_type": "code",
   "execution_count": 101,
   "metadata": {},
   "outputs": [
    {
     "data": {
      "text/plain": [
       "'C:\\\\Users\\\\AKapoor\\\\Videos\\\\Clinical Trials\\\\Code'"
      ]
     },
     "execution_count": 101,
     "metadata": {},
     "output_type": "execute_result"
    }
   ],
   "source": [
    "%pwd"
   ]
  },
  {
   "cell_type": "code",
   "execution_count": 114,
   "metadata": {
    "collapsed": true
   },
   "outputs": [],
   "source": [
    "#---------Load Sponsors data set-------------\n",
    "\n",
    "sponsors = pd.read_csv('C:/Users/AKapoor/Videos/Clinical Trials/ctgovdata/sponsors.txt', sep=\"|\")"
   ]
  },
  {
   "cell_type": "code",
   "execution_count": 140,
   "metadata": {
    "collapsed": true
   },
   "outputs": [],
   "source": [
    "#sponsors.nct_id.value_counts()"
   ]
  },
  {
   "cell_type": "code",
   "execution_count": 141,
   "metadata": {},
   "outputs": [
    {
     "data": {
      "text/html": [
       "<div>\n",
       "<style scoped>\n",
       "    .dataframe tbody tr th:only-of-type {\n",
       "        vertical-align: middle;\n",
       "    }\n",
       "\n",
       "    .dataframe tbody tr th {\n",
       "        vertical-align: top;\n",
       "    }\n",
       "\n",
       "    .dataframe thead th {\n",
       "        text-align: right;\n",
       "    }\n",
       "</style>\n",
       "<table border=\"1\" class=\"dataframe\">\n",
       "  <thead>\n",
       "    <tr style=\"text-align: right;\">\n",
       "      <th></th>\n",
       "      <th>id</th>\n",
       "      <th>nct_id</th>\n",
       "      <th>agency_class</th>\n",
       "      <th>lead_or_collaborator</th>\n",
       "      <th>name</th>\n",
       "    </tr>\n",
       "  </thead>\n",
       "  <tbody>\n",
       "    <tr>\n",
       "      <th>0</th>\n",
       "      <td>1785414</td>\n",
       "      <td>NCT03328455</td>\n",
       "      <td>Other</td>\n",
       "      <td>lead</td>\n",
       "      <td>University of Nevada, Reno</td>\n",
       "    </tr>\n",
       "    <tr>\n",
       "      <th>1</th>\n",
       "      <td>1785415</td>\n",
       "      <td>NCT03329326</td>\n",
       "      <td>Other</td>\n",
       "      <td>lead</td>\n",
       "      <td>Medical University of Vienna</td>\n",
       "    </tr>\n",
       "    <tr>\n",
       "      <th>2</th>\n",
       "      <td>1785416</td>\n",
       "      <td>NCT03329326</td>\n",
       "      <td>Other</td>\n",
       "      <td>collaborator</td>\n",
       "      <td>University Medical Center Goettingen</td>\n",
       "    </tr>\n",
       "    <tr>\n",
       "      <th>3</th>\n",
       "      <td>1785417</td>\n",
       "      <td>NCT03329326</td>\n",
       "      <td>Other</td>\n",
       "      <td>collaborator</td>\n",
       "      <td>Lund University</td>\n",
       "    </tr>\n",
       "    <tr>\n",
       "      <th>4</th>\n",
       "      <td>1785418</td>\n",
       "      <td>NCT03329326</td>\n",
       "      <td>Other</td>\n",
       "      <td>collaborator</td>\n",
       "      <td>Örebro University, Sweden</td>\n",
       "    </tr>\n",
       "  </tbody>\n",
       "</table>\n",
       "</div>"
      ],
      "text/plain": [
       "        id       nct_id agency_class lead_or_collaborator  \\\n",
       "0  1785414  NCT03328455        Other                 lead   \n",
       "1  1785415  NCT03329326        Other                 lead   \n",
       "2  1785416  NCT03329326        Other         collaborator   \n",
       "3  1785417  NCT03329326        Other         collaborator   \n",
       "4  1785418  NCT03329326        Other         collaborator   \n",
       "\n",
       "                                   name  \n",
       "0            University of Nevada, Reno  \n",
       "1          Medical University of Vienna  \n",
       "2  University Medical Center Goettingen  \n",
       "3                       Lund University  \n",
       "4             Örebro University, Sweden  "
      ]
     },
     "execution_count": 141,
     "metadata": {},
     "output_type": "execute_result"
    }
   ],
   "source": [
    "sponsors.head()"
   ]
  },
  {
   "cell_type": "code",
   "execution_count": 152,
   "metadata": {},
   "outputs": [
    {
     "data": {
      "text/html": [
       "<div>\n",
       "<style scoped>\n",
       "    .dataframe tbody tr th:only-of-type {\n",
       "        vertical-align: middle;\n",
       "    }\n",
       "\n",
       "    .dataframe tbody tr th {\n",
       "        vertical-align: top;\n",
       "    }\n",
       "\n",
       "    .dataframe thead th {\n",
       "        text-align: right;\n",
       "    }\n",
       "</style>\n",
       "<table border=\"1\" class=\"dataframe\">\n",
       "  <thead>\n",
       "    <tr style=\"text-align: right;\">\n",
       "      <th></th>\n",
       "      <th>nct_id</th>\n",
       "      <th>lead_or_collaborator</th>\n",
       "      <th>agency_class</th>\n",
       "      <th>name</th>\n",
       "    </tr>\n",
       "  </thead>\n",
       "  <tbody>\n",
       "    <tr>\n",
       "      <th>0</th>\n",
       "      <td>NCT03328455</td>\n",
       "      <td>lead</td>\n",
       "      <td>Other</td>\n",
       "      <td>University of Nevada, Reno</td>\n",
       "    </tr>\n",
       "    <tr>\n",
       "      <th>1</th>\n",
       "      <td>NCT03329326</td>\n",
       "      <td>lead</td>\n",
       "      <td>Other</td>\n",
       "      <td>Medical University of Vienna</td>\n",
       "    </tr>\n",
       "    <tr>\n",
       "      <th>2</th>\n",
       "      <td>NCT03329326</td>\n",
       "      <td>collaborator</td>\n",
       "      <td>Other</td>\n",
       "      <td>University Medical Center Goettingen</td>\n",
       "    </tr>\n",
       "    <tr>\n",
       "      <th>3</th>\n",
       "      <td>NCT03329326</td>\n",
       "      <td>collaborator</td>\n",
       "      <td>Other</td>\n",
       "      <td>Lund University</td>\n",
       "    </tr>\n",
       "    <tr>\n",
       "      <th>4</th>\n",
       "      <td>NCT03329326</td>\n",
       "      <td>collaborator</td>\n",
       "      <td>Other</td>\n",
       "      <td>Örebro University, Sweden</td>\n",
       "    </tr>\n",
       "  </tbody>\n",
       "</table>\n",
       "</div>"
      ],
      "text/plain": [
       "        nct_id lead_or_collaborator agency_class  \\\n",
       "0  NCT03328455                 lead        Other   \n",
       "1  NCT03329326                 lead        Other   \n",
       "2  NCT03329326         collaborator        Other   \n",
       "3  NCT03329326         collaborator        Other   \n",
       "4  NCT03329326         collaborator        Other   \n",
       "\n",
       "                                   name  \n",
       "0            University of Nevada, Reno  \n",
       "1          Medical University of Vienna  \n",
       "2  University Medical Center Goettingen  \n",
       "3                       Lund University  \n",
       "4             Örebro University, Sweden  "
      ]
     },
     "execution_count": 152,
     "metadata": {},
     "output_type": "execute_result"
    }
   ],
   "source": [
    "# Drop Id in Sponsors----#------\n",
    "sponsors_a=pd.DataFrame(sponsors, columns=['nct_id','lead_or_collaborator','agency_class','name'])\n",
    "\n",
    "sponsors_a.head()"
   ]
  },
  {
   "cell_type": "code",
   "execution_count": 151,
   "metadata": {},
   "outputs": [
    {
     "data": {
      "text/plain": [
       "lead            258053\n",
       "collaborator    147728\n",
       "Name: lead_or_collaborator, dtype: int64"
      ]
     },
     "execution_count": 151,
     "metadata": {},
     "output_type": "execute_result"
    }
   ],
   "source": [
    "sponsors_a.lead_or_collaborator.value_counts()"
   ]
  },
  {
   "cell_type": "code",
   "execution_count": 155,
   "metadata": {},
   "outputs": [
    {
     "ename": "DataError",
     "evalue": "No numeric types to aggregate",
     "output_type": "error",
     "traceback": [
      "\u001b[1;31m---------------------------------------------------------------------------\u001b[0m",
      "\u001b[1;31mDataError\u001b[0m                                 Traceback (most recent call last)",
      "\u001b[1;32m<ipython-input-155-4223d1c63f1e>\u001b[0m in \u001b[0;36m<module>\u001b[1;34m()\u001b[0m\n\u001b[0;32m      1\u001b[0m \u001b[1;31m#sponsors_b=sponsors_a.pivot(index='nct_id', columns=['agency_class','lead_or_collaborator','name'])\u001b[0m\u001b[1;33m\u001b[0m\u001b[1;33m\u001b[0m\u001b[0m\n\u001b[0;32m      2\u001b[0m \u001b[1;33m\u001b[0m\u001b[0m\n\u001b[1;32m----> 3\u001b[1;33m \u001b[0msponsors_b\u001b[0m\u001b[1;33m=\u001b[0m\u001b[0msponsors_a\u001b[0m\u001b[1;33m.\u001b[0m\u001b[0mpivot_table\u001b[0m\u001b[1;33m(\u001b[0m\u001b[0mvalues\u001b[0m\u001b[1;33m=\u001b[0m\u001b[1;33m[\u001b[0m\u001b[1;34m'agency_class'\u001b[0m\u001b[1;33m,\u001b[0m\u001b[1;34m'lead_or_collaborator'\u001b[0m\u001b[1;33m,\u001b[0m\u001b[1;34m'name'\u001b[0m\u001b[1;33m]\u001b[0m\u001b[1;33m,\u001b[0m\u001b[0mindex\u001b[0m\u001b[1;33m=\u001b[0m\u001b[1;34m'nct_id'\u001b[0m\u001b[1;33m)\u001b[0m\u001b[1;33m\u001b[0m\u001b[0m\n\u001b[0m",
      "\u001b[1;32mC:\\Anaconda\\lib\\site-packages\\pandas\\core\\frame.py\u001b[0m in \u001b[0;36mpivot_table\u001b[1;34m(self, values, index, columns, aggfunc, fill_value, margins, dropna, margins_name)\u001b[0m\n\u001b[0;32m   4466\u001b[0m                            \u001b[0maggfunc\u001b[0m\u001b[1;33m=\u001b[0m\u001b[0maggfunc\u001b[0m\u001b[1;33m,\u001b[0m \u001b[0mfill_value\u001b[0m\u001b[1;33m=\u001b[0m\u001b[0mfill_value\u001b[0m\u001b[1;33m,\u001b[0m\u001b[1;33m\u001b[0m\u001b[0m\n\u001b[0;32m   4467\u001b[0m                            \u001b[0mmargins\u001b[0m\u001b[1;33m=\u001b[0m\u001b[0mmargins\u001b[0m\u001b[1;33m,\u001b[0m \u001b[0mdropna\u001b[0m\u001b[1;33m=\u001b[0m\u001b[0mdropna\u001b[0m\u001b[1;33m,\u001b[0m\u001b[1;33m\u001b[0m\u001b[0m\n\u001b[1;32m-> 4468\u001b[1;33m                            margins_name=margins_name)\n\u001b[0m\u001b[0;32m   4469\u001b[0m \u001b[1;33m\u001b[0m\u001b[0m\n\u001b[0;32m   4470\u001b[0m     \u001b[1;32mdef\u001b[0m \u001b[0mstack\u001b[0m\u001b[1;33m(\u001b[0m\u001b[0mself\u001b[0m\u001b[1;33m,\u001b[0m \u001b[0mlevel\u001b[0m\u001b[1;33m=\u001b[0m\u001b[1;33m-\u001b[0m\u001b[1;36m1\u001b[0m\u001b[1;33m,\u001b[0m \u001b[0mdropna\u001b[0m\u001b[1;33m=\u001b[0m\u001b[1;32mTrue\u001b[0m\u001b[1;33m)\u001b[0m\u001b[1;33m:\u001b[0m\u001b[1;33m\u001b[0m\u001b[0m\n",
      "\u001b[1;32mC:\\Anaconda\\lib\\site-packages\\pandas\\core\\reshape\\pivot.py\u001b[0m in \u001b[0;36mpivot_table\u001b[1;34m(data, values, index, columns, aggfunc, fill_value, margins, dropna, margins_name)\u001b[0m\n\u001b[0;32m     80\u001b[0m \u001b[1;33m\u001b[0m\u001b[0m\n\u001b[0;32m     81\u001b[0m     \u001b[0mgrouped\u001b[0m \u001b[1;33m=\u001b[0m \u001b[0mdata\u001b[0m\u001b[1;33m.\u001b[0m\u001b[0mgroupby\u001b[0m\u001b[1;33m(\u001b[0m\u001b[0mkeys\u001b[0m\u001b[1;33m)\u001b[0m\u001b[1;33m\u001b[0m\u001b[0m\n\u001b[1;32m---> 82\u001b[1;33m     \u001b[0magged\u001b[0m \u001b[1;33m=\u001b[0m \u001b[0mgrouped\u001b[0m\u001b[1;33m.\u001b[0m\u001b[0magg\u001b[0m\u001b[1;33m(\u001b[0m\u001b[0maggfunc\u001b[0m\u001b[1;33m)\u001b[0m\u001b[1;33m\u001b[0m\u001b[0m\n\u001b[0m\u001b[0;32m     83\u001b[0m \u001b[1;33m\u001b[0m\u001b[0m\n\u001b[0;32m     84\u001b[0m     \u001b[0mtable\u001b[0m \u001b[1;33m=\u001b[0m \u001b[0magged\u001b[0m\u001b[1;33m\u001b[0m\u001b[0m\n",
      "\u001b[1;32mC:\\Anaconda\\lib\\site-packages\\pandas\\core\\groupby.py\u001b[0m in \u001b[0;36maggregate\u001b[1;34m(self, arg, *args, **kwargs)\u001b[0m\n\u001b[0;32m   4279\u001b[0m         versionadded=''))\n\u001b[0;32m   4280\u001b[0m     \u001b[1;32mdef\u001b[0m \u001b[0maggregate\u001b[0m\u001b[1;33m(\u001b[0m\u001b[0mself\u001b[0m\u001b[1;33m,\u001b[0m \u001b[0marg\u001b[0m\u001b[1;33m,\u001b[0m \u001b[1;33m*\u001b[0m\u001b[0margs\u001b[0m\u001b[1;33m,\u001b[0m \u001b[1;33m**\u001b[0m\u001b[0mkwargs\u001b[0m\u001b[1;33m)\u001b[0m\u001b[1;33m:\u001b[0m\u001b[1;33m\u001b[0m\u001b[0m\n\u001b[1;32m-> 4281\u001b[1;33m         \u001b[1;32mreturn\u001b[0m \u001b[0msuper\u001b[0m\u001b[1;33m(\u001b[0m\u001b[0mDataFrameGroupBy\u001b[0m\u001b[1;33m,\u001b[0m \u001b[0mself\u001b[0m\u001b[1;33m)\u001b[0m\u001b[1;33m.\u001b[0m\u001b[0maggregate\u001b[0m\u001b[1;33m(\u001b[0m\u001b[0marg\u001b[0m\u001b[1;33m,\u001b[0m \u001b[1;33m*\u001b[0m\u001b[0margs\u001b[0m\u001b[1;33m,\u001b[0m \u001b[1;33m**\u001b[0m\u001b[0mkwargs\u001b[0m\u001b[1;33m)\u001b[0m\u001b[1;33m\u001b[0m\u001b[0m\n\u001b[0m\u001b[0;32m   4282\u001b[0m \u001b[1;33m\u001b[0m\u001b[0m\n\u001b[0;32m   4283\u001b[0m     \u001b[0magg\u001b[0m \u001b[1;33m=\u001b[0m \u001b[0maggregate\u001b[0m\u001b[1;33m\u001b[0m\u001b[0m\n",
      "\u001b[1;32mC:\\Anaconda\\lib\\site-packages\\pandas\\core\\groupby.py\u001b[0m in \u001b[0;36maggregate\u001b[1;34m(self, arg, *args, **kwargs)\u001b[0m\n\u001b[0;32m   3712\u001b[0m \u001b[1;33m\u001b[0m\u001b[0m\n\u001b[0;32m   3713\u001b[0m         \u001b[0m_level\u001b[0m \u001b[1;33m=\u001b[0m \u001b[0mkwargs\u001b[0m\u001b[1;33m.\u001b[0m\u001b[0mpop\u001b[0m\u001b[1;33m(\u001b[0m\u001b[1;34m'_level'\u001b[0m\u001b[1;33m,\u001b[0m \u001b[1;32mNone\u001b[0m\u001b[1;33m)\u001b[0m\u001b[1;33m\u001b[0m\u001b[0m\n\u001b[1;32m-> 3714\u001b[1;33m         \u001b[0mresult\u001b[0m\u001b[1;33m,\u001b[0m \u001b[0mhow\u001b[0m \u001b[1;33m=\u001b[0m \u001b[0mself\u001b[0m\u001b[1;33m.\u001b[0m\u001b[0m_aggregate\u001b[0m\u001b[1;33m(\u001b[0m\u001b[0marg\u001b[0m\u001b[1;33m,\u001b[0m \u001b[0m_level\u001b[0m\u001b[1;33m=\u001b[0m\u001b[0m_level\u001b[0m\u001b[1;33m,\u001b[0m \u001b[1;33m*\u001b[0m\u001b[0margs\u001b[0m\u001b[1;33m,\u001b[0m \u001b[1;33m**\u001b[0m\u001b[0mkwargs\u001b[0m\u001b[1;33m)\u001b[0m\u001b[1;33m\u001b[0m\u001b[0m\n\u001b[0m\u001b[0;32m   3715\u001b[0m         \u001b[1;32mif\u001b[0m \u001b[0mhow\u001b[0m \u001b[1;32mis\u001b[0m \u001b[1;32mNone\u001b[0m\u001b[1;33m:\u001b[0m\u001b[1;33m\u001b[0m\u001b[0m\n\u001b[0;32m   3716\u001b[0m             \u001b[1;32mreturn\u001b[0m \u001b[0mresult\u001b[0m\u001b[1;33m\u001b[0m\u001b[0m\n",
      "\u001b[1;32mC:\\Anaconda\\lib\\site-packages\\pandas\\core\\base.py\u001b[0m in \u001b[0;36m_aggregate\u001b[1;34m(self, arg, *args, **kwargs)\u001b[0m\n\u001b[0;32m    338\u001b[0m         \u001b[1;32mif\u001b[0m \u001b[0misinstance\u001b[0m\u001b[1;33m(\u001b[0m\u001b[0marg\u001b[0m\u001b[1;33m,\u001b[0m \u001b[0mcompat\u001b[0m\u001b[1;33m.\u001b[0m\u001b[0mstring_types\u001b[0m\u001b[1;33m)\u001b[0m\u001b[1;33m:\u001b[0m\u001b[1;33m\u001b[0m\u001b[0m\n\u001b[0;32m    339\u001b[0m             return self._try_aggregate_string_function(arg, *args,\n\u001b[1;32m--> 340\u001b[1;33m                                                        **kwargs), None\n\u001b[0m\u001b[0;32m    341\u001b[0m \u001b[1;33m\u001b[0m\u001b[0m\n\u001b[0;32m    342\u001b[0m         \u001b[1;32mif\u001b[0m \u001b[0misinstance\u001b[0m\u001b[1;33m(\u001b[0m\u001b[0marg\u001b[0m\u001b[1;33m,\u001b[0m \u001b[0mdict\u001b[0m\u001b[1;33m)\u001b[0m\u001b[1;33m:\u001b[0m\u001b[1;33m\u001b[0m\u001b[0m\n",
      "\u001b[1;32mC:\\Anaconda\\lib\\site-packages\\pandas\\core\\base.py\u001b[0m in \u001b[0;36m_try_aggregate_string_function\u001b[1;34m(self, arg, *args, **kwargs)\u001b[0m\n\u001b[0;32m    294\u001b[0m         \u001b[1;32mif\u001b[0m \u001b[0mf\u001b[0m \u001b[1;32mis\u001b[0m \u001b[1;32mnot\u001b[0m \u001b[1;32mNone\u001b[0m\u001b[1;33m:\u001b[0m\u001b[1;33m\u001b[0m\u001b[0m\n\u001b[0;32m    295\u001b[0m             \u001b[1;32mif\u001b[0m \u001b[0mcallable\u001b[0m\u001b[1;33m(\u001b[0m\u001b[0mf\u001b[0m\u001b[1;33m)\u001b[0m\u001b[1;33m:\u001b[0m\u001b[1;33m\u001b[0m\u001b[0m\n\u001b[1;32m--> 296\u001b[1;33m                 \u001b[1;32mreturn\u001b[0m \u001b[0mf\u001b[0m\u001b[1;33m(\u001b[0m\u001b[1;33m*\u001b[0m\u001b[0margs\u001b[0m\u001b[1;33m,\u001b[0m \u001b[1;33m**\u001b[0m\u001b[0mkwargs\u001b[0m\u001b[1;33m)\u001b[0m\u001b[1;33m\u001b[0m\u001b[0m\n\u001b[0m\u001b[0;32m    297\u001b[0m \u001b[1;33m\u001b[0m\u001b[0m\n\u001b[0;32m    298\u001b[0m             \u001b[1;31m# people may try to aggregate on a non-callable attribute\u001b[0m\u001b[1;33m\u001b[0m\u001b[1;33m\u001b[0m\u001b[0m\n",
      "\u001b[1;32mC:\\Anaconda\\lib\\site-packages\\pandas\\core\\groupby.py\u001b[0m in \u001b[0;36mmean\u001b[1;34m(self, *args, **kwargs)\u001b[0m\n\u001b[0;32m   1124\u001b[0m         \u001b[0mnv\u001b[0m\u001b[1;33m.\u001b[0m\u001b[0mvalidate_groupby_func\u001b[0m\u001b[1;33m(\u001b[0m\u001b[1;34m'mean'\u001b[0m\u001b[1;33m,\u001b[0m \u001b[0margs\u001b[0m\u001b[1;33m,\u001b[0m \u001b[0mkwargs\u001b[0m\u001b[1;33m,\u001b[0m \u001b[1;33m[\u001b[0m\u001b[1;34m'numeric_only'\u001b[0m\u001b[1;33m]\u001b[0m\u001b[1;33m)\u001b[0m\u001b[1;33m\u001b[0m\u001b[0m\n\u001b[0;32m   1125\u001b[0m         \u001b[1;32mtry\u001b[0m\u001b[1;33m:\u001b[0m\u001b[1;33m\u001b[0m\u001b[0m\n\u001b[1;32m-> 1126\u001b[1;33m             \u001b[1;32mreturn\u001b[0m \u001b[0mself\u001b[0m\u001b[1;33m.\u001b[0m\u001b[0m_cython_agg_general\u001b[0m\u001b[1;33m(\u001b[0m\u001b[1;34m'mean'\u001b[0m\u001b[1;33m,\u001b[0m \u001b[1;33m**\u001b[0m\u001b[0mkwargs\u001b[0m\u001b[1;33m)\u001b[0m\u001b[1;33m\u001b[0m\u001b[0m\n\u001b[0m\u001b[0;32m   1127\u001b[0m         \u001b[1;32mexcept\u001b[0m \u001b[0mGroupByError\u001b[0m\u001b[1;33m:\u001b[0m\u001b[1;33m\u001b[0m\u001b[0m\n\u001b[0;32m   1128\u001b[0m             \u001b[1;32mraise\u001b[0m\u001b[1;33m\u001b[0m\u001b[0m\n",
      "\u001b[1;32mC:\\Anaconda\\lib\\site-packages\\pandas\\core\\groupby.py\u001b[0m in \u001b[0;36m_cython_agg_general\u001b[1;34m(self, how, alt, numeric_only)\u001b[0m\n\u001b[0;32m   3598\u001b[0m     \u001b[1;32mdef\u001b[0m \u001b[0m_cython_agg_general\u001b[0m\u001b[1;33m(\u001b[0m\u001b[0mself\u001b[0m\u001b[1;33m,\u001b[0m \u001b[0mhow\u001b[0m\u001b[1;33m,\u001b[0m \u001b[0malt\u001b[0m\u001b[1;33m=\u001b[0m\u001b[1;32mNone\u001b[0m\u001b[1;33m,\u001b[0m \u001b[0mnumeric_only\u001b[0m\u001b[1;33m=\u001b[0m\u001b[1;32mTrue\u001b[0m\u001b[1;33m)\u001b[0m\u001b[1;33m:\u001b[0m\u001b[1;33m\u001b[0m\u001b[0m\n\u001b[0;32m   3599\u001b[0m         new_items, new_blocks = self._cython_agg_blocks(\n\u001b[1;32m-> 3600\u001b[1;33m             how, alt=alt, numeric_only=numeric_only)\n\u001b[0m\u001b[0;32m   3601\u001b[0m         \u001b[1;32mreturn\u001b[0m \u001b[0mself\u001b[0m\u001b[1;33m.\u001b[0m\u001b[0m_wrap_agged_blocks\u001b[0m\u001b[1;33m(\u001b[0m\u001b[0mnew_items\u001b[0m\u001b[1;33m,\u001b[0m \u001b[0mnew_blocks\u001b[0m\u001b[1;33m)\u001b[0m\u001b[1;33m\u001b[0m\u001b[0m\n\u001b[0;32m   3602\u001b[0m \u001b[1;33m\u001b[0m\u001b[0m\n",
      "\u001b[1;32mC:\\Anaconda\\lib\\site-packages\\pandas\\core\\groupby.py\u001b[0m in \u001b[0;36m_cython_agg_blocks\u001b[1;34m(self, how, alt, numeric_only)\u001b[0m\n\u001b[0;32m   3669\u001b[0m \u001b[1;33m\u001b[0m\u001b[0m\n\u001b[0;32m   3670\u001b[0m         \u001b[1;32mif\u001b[0m \u001b[0mlen\u001b[0m\u001b[1;33m(\u001b[0m\u001b[0mnew_blocks\u001b[0m\u001b[1;33m)\u001b[0m \u001b[1;33m==\u001b[0m \u001b[1;36m0\u001b[0m\u001b[1;33m:\u001b[0m\u001b[1;33m\u001b[0m\u001b[0m\n\u001b[1;32m-> 3671\u001b[1;33m             \u001b[1;32mraise\u001b[0m \u001b[0mDataError\u001b[0m\u001b[1;33m(\u001b[0m\u001b[1;34m'No numeric types to aggregate'\u001b[0m\u001b[1;33m)\u001b[0m\u001b[1;33m\u001b[0m\u001b[0m\n\u001b[0m\u001b[0;32m   3672\u001b[0m \u001b[1;33m\u001b[0m\u001b[0m\n\u001b[0;32m   3673\u001b[0m         \u001b[1;31m# reset the locs in the blocks to correspond to our\u001b[0m\u001b[1;33m\u001b[0m\u001b[1;33m\u001b[0m\u001b[0m\n",
      "\u001b[1;31mDataError\u001b[0m: No numeric types to aggregate"
     ]
    }
   ],
   "source": [
    "#sponsors_b=sponsors_a.pivot(index='nct_id', columns=['agency_class','lead_or_collaborator','name'])\n",
    "\n",
    "sponsors_b=sponsors_a.pivot_table(values=['agency_class','lead_or_collaborator','name'],index='nct_id')"
   ]
  },
  {
   "cell_type": "code",
   "execution_count": null,
   "metadata": {
    "collapsed": true
   },
   "outputs": [],
   "source": [
    "#------Merge Sponsors to Studies_c ---------#\n",
    "\n",
    "#studies_b=pd.merge(studies_a,countries, how='left',on='nct_id')\n",
    "\n",
    "studies_c1=countries.merge(studies_a, left_on='nct_id',right_on='nct_id', how='left')"
   ]
  },
  {
   "cell_type": "code",
   "execution_count": null,
   "metadata": {
    "collapsed": true
   },
   "outputs": [],
   "source": []
  }
 ],
 "metadata": {
  "kernelspec": {
   "display_name": "Python 3",
   "language": "python",
   "name": "python3"
  },
  "language_info": {
   "codemirror_mode": {
    "name": "ipython",
    "version": 3
   },
   "file_extension": ".py",
   "mimetype": "text/x-python",
   "name": "python",
   "nbconvert_exporter": "python",
   "pygments_lexer": "ipython3",
   "version": "3.6.2"
  }
 },
 "nbformat": 4,
 "nbformat_minor": 2
}
